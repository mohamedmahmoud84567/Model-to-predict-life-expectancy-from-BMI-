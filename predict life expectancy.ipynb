{
 "cells": [
  {
   "cell_type": "code",
   "execution_count": 19,
   "id": "48754180",
   "metadata": {},
   "outputs": [],
   "source": [
    "# Add import statements\n",
    "from sklearn.linear_model import LinearRegression\n",
    "import pandas as pd"
   ]
  },
  {
   "cell_type": "code",
   "execution_count": 21,
   "id": "fa239b7f",
   "metadata": {},
   "outputs": [],
   "source": [
    "# Load the data\n",
    "bmi_life_data=pd.read_csv('data.csv')\n",
    "X=bmi_life_data[['BMI']]\n",
    "y=bmi_life_data[['Life expectancy']]"
   ]
  },
  {
   "cell_type": "code",
   "execution_count": 22,
   "id": "106af719",
   "metadata": {},
   "outputs": [
    {
     "data": {
      "text/plain": [
       "LinearRegression()"
      ]
     },
     "execution_count": 22,
     "metadata": {},
     "output_type": "execute_result"
    }
   ],
   "source": [
    "# fitting the linear regression model and Assign it to bmi_life_model\n",
    "bmi_life_model=LinearRegression()\n",
    "bmi_life_model.fit(X,y)\n",
    "\n"
   ]
  },
  {
   "cell_type": "code",
   "execution_count": 23,
   "id": "679879a3",
   "metadata": {},
   "outputs": [
    {
     "name": "stdout",
     "output_type": "stream",
     "text": [
      "laos_life_exp: [[60.31564716]]\n",
      "Emirates_life_exp: [[77.88022794]]\n",
      "Belgium_life_model: [[74.62020742]]\n"
     ]
    },
    {
     "name": "stderr",
     "output_type": "stream",
     "text": [
      "C:\\Users\\elkin\\anaconda3\\lib\\site-packages\\sklearn\\base.py:450: UserWarning: X does not have valid feature names, but LinearRegression was fitted with feature names\n",
      "  warnings.warn(\n",
      "C:\\Users\\elkin\\anaconda3\\lib\\site-packages\\sklearn\\base.py:450: UserWarning: X does not have valid feature names, but LinearRegression was fitted with feature names\n",
      "  warnings.warn(\n",
      "C:\\Users\\elkin\\anaconda3\\lib\\site-packages\\sklearn\\base.py:450: UserWarning: X does not have valid feature names, but LinearRegression was fitted with feature names\n",
      "  warnings.warn(\n"
     ]
    }
   ],
   "source": [
    "#  Make a prediction(life expectancy) using the model for a BMI value of 21.07931\n",
    "laos_life_exp=bmi_life_model.predict([[21.07931]])\n",
    "print('laos_life_exp:',laos_life_exp)\n",
    "#  Make a prediction(life expectancy) using the model for a BMI value of 28.05359\n",
    "Emirates_life_exp=bmi_life_model.predict([[28.05359]])\n",
    "print('Emirates_life_exp:', Emirates_life_exp)\n",
    "#   Make a prediction(life expectancy) using the model for a BMI value of 26.75915\n",
    "Belgium_life_exp=bmi_life_model.predict([[26.75915]])\n",
    "print('Belgium_life_model:',Belgium_life_exp)"
   ]
  },
  {
   "cell_type": "code",
   "execution_count": null,
   "id": "fe21fedb",
   "metadata": {},
   "outputs": [],
   "source": []
  }
 ],
 "metadata": {
  "kernelspec": {
   "display_name": "Python 3 (ipykernel)",
   "language": "python",
   "name": "python3"
  },
  "language_info": {
   "codemirror_mode": {
    "name": "ipython",
    "version": 3
   },
   "file_extension": ".py",
   "mimetype": "text/x-python",
   "name": "python",
   "nbconvert_exporter": "python",
   "pygments_lexer": "ipython3",
   "version": "3.9.7"
  }
 },
 "nbformat": 4,
 "nbformat_minor": 5
}
